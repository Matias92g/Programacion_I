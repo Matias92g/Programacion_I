{
 "cells": [
  {
   "cell_type": "markdown",
   "id": "7e4fbb15",
   "metadata": {
    "vscode": {
     "languageId": "latex"
    }
   },
   "source": [
    "Práctico 2: Funciones en Python \n",
    "\n",
    "Objetivo:\n",
    "\n",
    "Comprender y aplicar el uso de funciones en la programación, desarro￾llando algoritmos que implementen modularidad, reutilización de código y\n",
    "una organización estructurada para resolver problemas.\n"
   ]
  },
  {
   "cell_type": "markdown",
   "id": "97f2f5f6",
   "metadata": {},
   "source": [
    "Actividades:\n"
   ]
  },
  {
   "cell_type": "markdown",
   "id": "732849db",
   "metadata": {},
   "source": [
    "1. Crear una función llamada imprimir_hola_mundo que imprima por\n",
    "pantalla el mensaje: “Hola Mundo!”. Llamar a esta función desde el\n",
    "programa principal."
   ]
  },
  {
   "cell_type": "code",
   "execution_count": 35,
   "id": "b6d515d5",
   "metadata": {},
   "outputs": [
    {
     "name": "stdout",
     "output_type": "stream",
     "text": [
      "Hola Mundo!\n"
     ]
    }
   ],
   "source": [
    "#Definición de la dunción a utilizar\n",
    "def imprimir_hola_mundo():\n",
    "    saludo = \"Hola Mundo!\"\n",
    "    return print (saludo)\n",
    "\n",
    "#Programa Principal\n",
    "imprimir_hola_mundo()\n"
   ]
  },
  {
   "cell_type": "markdown",
   "id": "1b7e3c9f",
   "metadata": {},
   "source": [
    "2. Crear una función llamada saludar_usuario(nombre) que reciba como parámetro un nombre y devuelva un saludo personalizado.\n",
    "Por ejemplo, si se llama con saludar_usuario(\"Marcos\"), deberá devolver: “Hola Marcos!”. Llamar a esta función desde el programa\n",
    "principal solicitando el nombre al usuario."
   ]
  },
  {
   "cell_type": "code",
   "execution_count": 33,
   "id": "aa5f528a",
   "metadata": {},
   "outputs": [
    {
     "name": "stdout",
     "output_type": "stream",
     "text": [
      "Hola Matias!\n"
     ]
    }
   ],
   "source": [
    "#Definición de la dunción a utilizar\n",
    "def saludar_usuario(nombre):\n",
    "    return print (f\"Hola {nombre}!\")\n",
    "\n",
    "#Programa Principal\n",
    "nombre=input(\"Ingresa tu nombre\")\n",
    "saludar_usuario(nombre)"
   ]
  },
  {
   "cell_type": "markdown",
   "id": "919fa10c",
   "metadata": {},
   "source": [
    "3. Crear una función llamada informacion_personal(nombre, apellido, edad, residencia) que reciba cuatro parámetros e imprima: “Soy\n",
    "[nombre] [apellido], tengo [edad] años y vivo en [residencia]”. Pedir los datos al usuario y llamar a esta función con los valores ingresados.\n"
   ]
  },
  {
   "cell_type": "code",
   "execution_count": 36,
   "id": "8c0d7870",
   "metadata": {},
   "outputs": [
    {
     "name": "stdout",
     "output_type": "stream",
     "text": [
      "Soy Matias Gonzalez, tengo 32 años y vivo en Mendoza, Argentina\n"
     ]
    }
   ],
   "source": [
    "#Definición de la dunción a utilizar\n",
    "def informacion_usuario(nombre, apellido, edad, residencia):\n",
    "    return print (f\"Soy {nombre} {apellido}, tengo {edad} años y vivo en {residencia}\")\n",
    "#Programa Principal\n",
    "nombre = input(\"Ingrese su nombre: \")\n",
    "apellido= input(\"Ingrese su apellido: \")\n",
    "edad= input(\"Ingrese su edad: \")\n",
    "residencia = input(\"Ingrese su residencia: \")\n",
    "informacion_usuario(nombre, apellido, edad, residencia)"
   ]
  },
  {
   "cell_type": "markdown",
   "id": "1990ec5f",
   "metadata": {},
   "source": [
    "4. Crear dos funciones: calcular_area_circulo(radio) que reciba el radio como parámetro y devuelva el área del círculo. \n",
    "calcular_perimetro_circulo(radio) que reciba el radio como parámetro y devuelva el perímetro del círculo. \n",
    "Solicitar el radio al usuario y llamar am￾bas funciones para mostrar los resultados."
   ]
  },
  {
   "cell_type": "code",
   "execution_count": 31,
   "id": "7a0c205e",
   "metadata": {},
   "outputs": [
    {
     "name": "stdout",
     "output_type": "stream",
     "text": [
      "El área del circulo es: 78.53981633974483\n",
      "El perímetro del circulo es: 12.566370614359172\n"
     ]
    }
   ],
   "source": [
    "#Declaración de funciones a utilizar\n",
    "import math\n",
    "def calcular_area_circulo(radio):\n",
    "    area = math.pi * radio**2\n",
    "    return area\n",
    "def calcular_perimetro_circulo(radio):\n",
    "    perimetro = math.pi * (radio *2)\n",
    "    return perimetro\n",
    "\n",
    "#Programa Princpal\n",
    "radio=int(input(\"Ingresa el valor del radio: \"))\n",
    "print(f\"El área del circulo es: {calcular_area_circulo(radio)}\")\n",
    "radio=int(input(\"Ingresa el valor del radio: \"))\n",
    "print(f\"El perímetro del circulo es: {calcular_perimetro_circulo(radio)}\")\n"
   ]
  },
  {
   "cell_type": "markdown",
   "id": "6b6cefe3",
   "metadata": {},
   "source": [
    "5. Crear una función llamada segundos_a_horas(segundos) que reciba\n",
    "una cantidad de segundos como parámetro y devuelva la cantidad\n",
    "de horas correspondientes. Solicitar al usuario los segundos y mos￾trar el resultado usando esta función."
   ]
  },
  {
   "cell_type": "code",
   "execution_count": 30,
   "id": "03750b1f",
   "metadata": {},
   "outputs": [
    {
     "name": "stdout",
     "output_type": "stream",
     "text": [
      "La cantidad de segundos ingresados equivalen a 2.5833333333333335 horas\n"
     ]
    }
   ],
   "source": [
    "#Declaración de funciones a utilizar\n",
    "def segundos_a_horas(segundos):\n",
    "    return segundos/60\n",
    "\n",
    "#Programa Princpal\n",
    "segundos = int(input(\"Ingresa la cantidad de segundos a convertir en horas: \"))\n",
    "print(f\"La cantidad de segundos ingresados equivalen a {segundos_a_horas(segundos)} horas\")"
   ]
  },
  {
   "cell_type": "markdown",
   "id": "1dd48889",
   "metadata": {},
   "source": [
    "6. Crear una función llamada tabla_multiplicar(numero) que reciba un\n",
    "número como parámetro y imprima la tabla de multiplicar de ese\n",
    "número del 1 al 10. Pedir al usuario el número y llamar a la función.\n"
   ]
  },
  {
   "cell_type": "code",
   "execution_count": 28,
   "id": "d1beab0c",
   "metadata": {},
   "outputs": [
    {
     "name": "stdout",
     "output_type": "stream",
     "text": [
      "7\n",
      "14\n",
      "21\n",
      "28\n",
      "35\n",
      "42\n",
      "49\n",
      "56\n",
      "63\n",
      "70\n"
     ]
    }
   ],
   "source": [
    "#Declaración de funciones a utilizar\n",
    "def tabla_multiplicar(numero):\n",
    "    for i in range(1,11):\n",
    "        print (numero * i)\n",
    "\n",
    "#Programa Princpal\n",
    "numero = int(input(\"Ingrese un número para calcular sus multiplos del 1 al 10: \"))\n",
    "tabla_multiplicar(numero)"
   ]
  },
  {
   "cell_type": "markdown",
   "id": "c07142cd",
   "metadata": {},
   "source": [
    "7. Crear una función llamada operaciones_basicas(a, b) que reciba dos números como parámetros y devuelva una tupla con el resultado de sumarlos, restarlos, multiplicarlos y dividirlos. Mostrar los re￾sultados de forma clara.\n"
   ]
  },
  {
   "cell_type": "code",
   "execution_count": 24,
   "id": "628ad751",
   "metadata": {},
   "outputs": [
    {
     "name": "stdout",
     "output_type": "stream",
     "text": [
      "(12, 6, 16, 4.0)\n"
     ]
    }
   ],
   "source": [
    "#Declaración de funciones a utilizar\n",
    "def multiplicacion(a,b):\n",
    "    return a*b\n",
    "def suma(a,b):\n",
    "    return a+b\n",
    "def resta(a,b):\n",
    "    return a-b\n",
    "def division(a,b):\n",
    "    return a/b\n",
    "\n",
    "#Programa Princpal\n",
    "tupla_resultados = tuple((suma(10,2),resta(11,5), multiplicacion(2,8),division(20,5)))\n",
    "print ((tupla_resultados))"
   ]
  },
  {
   "cell_type": "markdown",
   "id": "79e94eb3",
   "metadata": {},
   "source": [
    "8. Crear una función llamada calcular_imc(peso, altura) que reciba el\n",
    "peso en kilogramos y la altura en metros, y devuelva el índice de\n",
    "masa corporal (IMC). Solicitar al usuario los datos y llamar a la fun￾ción para mostrar el resultado con dos decimales."
   ]
  },
  {
   "cell_type": "code",
   "execution_count": null,
   "id": "6372b8a4",
   "metadata": {},
   "outputs": [
    {
     "name": "stdout",
     "output_type": "stream",
     "text": [
      "Su Indice de Masa Corporal (ICM)es : 26.812218711098343\n"
     ]
    }
   ],
   "source": [
    "#Declaración de funciones a utilizar\n",
    "def calcular_imc(peso, altura):\n",
    "    return peso / (altura**2)\n",
    "\n",
    "#Programa Principal\n",
    "peso = float(input(\"Ingresa su peso en Kg(Ejemplo: 65.2): \"))\n",
    "altura = float(input(\"Ingresa su altura en metros(Ejemplo: 1.62):\"))\n",
    "print(f\"Su Indice de Masa Corporal (ICM) es : {calcular_imc(peso, altura)}\")"
   ]
  },
  {
   "cell_type": "markdown",
   "id": "75fa9e11",
   "metadata": {},
   "source": [
    "9. Crear una función llamada celsius_a_fahrenheit(celsius) que reciba\n",
    "una temperatura en grados Celsius y devuelva su equivalente en\n",
    "Fahrenheit. Pedir al usuario la temperatura en Celsius y mostrar el\n",
    "resultado usando la función.\n",
    "    "
   ]
  },
  {
   "cell_type": "code",
   "execution_count": null,
   "id": "ad56da4e",
   "metadata": {},
   "outputs": [],
   "source": [
    "#Declaración de funciones a utilizar\n",
    "def celsius_a_fahrenheit(celsius):\n",
    "    return (celsius* (9/5))+ 32\n",
    "\n",
    "#Programa Principal\n",
    "celsius = float(input(\"Ingresa el valor de temperatura en °C : \"))\n",
    "print(f\"La temperatura ingresada en °C equivalen a {celsius_a_fahrenheit(celsius)} °F\")"
   ]
  },
  {
   "cell_type": "markdown",
   "id": "4e9d153f",
   "metadata": {},
   "source": [
    "10.Crear una función llamada calcular_promedio(a, b, c) que reciba\n",
    "tres números como parámetros y devuelva el promedio de ellos.\n",
    "Solicitar los números al usuario y mostrar el resultado usando esta\n",
    "función.\n"
   ]
  },
  {
   "cell_type": "code",
   "execution_count": 34,
   "id": "6f65fc6e",
   "metadata": {},
   "outputs": [
    {
     "name": "stdout",
     "output_type": "stream",
     "text": [
      "El promedio de los números ingresados es: 14.333333333333334\n"
     ]
    }
   ],
   "source": [
    "#Declaración de funciones a utilizar\n",
    "def calcular_promedio(a,b,c):\n",
    "    return (a+b+c)/3\n",
    "\n",
    "#Programa Principal\n",
    "a = int(input(\"Ingresa el 1er número: \"))\n",
    "b = int(input(\"Ingresa el 2do número: \"))\n",
    "c = int(input(\"Ingresa el 3er número: \"))\n",
    "print(f\"El promedio de los números ingresados es: {calcular_promedio(a,b,c)}\")"
   ]
  }
 ],
 "metadata": {
  "kernelspec": {
   "display_name": "Python 3",
   "language": "python",
   "name": "python3"
  },
  "language_info": {
   "codemirror_mode": {
    "name": "ipython",
    "version": 3
   },
   "file_extension": ".py",
   "mimetype": "text/x-python",
   "name": "python",
   "nbconvert_exporter": "python",
   "pygments_lexer": "ipython3",
   "version": "3.13.3"
  }
 },
 "nbformat": 4,
 "nbformat_minor": 5
}
