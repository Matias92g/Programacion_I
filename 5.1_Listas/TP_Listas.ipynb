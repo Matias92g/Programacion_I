{
 "cells": [
  {
   "cell_type": "markdown",
   "id": "ed926221",
   "metadata": {},
   "source": [
    "1) Crear una lista con los números del 1 al 100 que sean múltiplos de 4. Utilizar la función\n",
    "range."
   ]
  },
  {
   "cell_type": "code",
   "execution_count": null,
   "id": "429787ba",
   "metadata": {},
   "outputs": [
    {
     "name": "stdout",
     "output_type": "stream",
     "text": [
      "[4, 8, 12, 16, 20, 24, 28, 32, 36, 40, 44, 48, 52, 56, 60, 64, 68, 72, 76, 80, 84, 88, 92, 96, 100]\n"
     ]
    }
   ],
   "source": [
    "lista_numeros = list(range(4,101,4))\n",
    "print(lista_numeros)"
   ]
  },
  {
   "cell_type": "markdown",
   "id": "17533b51",
   "metadata": {},
   "source": [
    "2) Crear una lista con cinco elementos (colocar los elementos que más te gusten) y mostrar el\n",
    "penúltimo."
   ]
  },
  {
   "cell_type": "code",
   "execution_count": 8,
   "id": "77205c2b",
   "metadata": {},
   "outputs": [
    {
     "name": "stdout",
     "output_type": "stream",
     "text": [
      "perico\n"
     ]
    }
   ],
   "source": [
    "lista_animales = [\"perro\", \"gato\", \"toro\", \"perico\", \"canario\"]\n",
    "print(lista_animales[3])"
   ]
  },
  {
   "cell_type": "markdown",
   "id": "c4c648aa",
   "metadata": {},
   "source": [
    "3) Crear una lista vacía, agregar tres palabras con append e imprimir la lista resultante por\n",
    "pantalla."
   ]
  },
  {
   "cell_type": "code",
   "execution_count": 7,
   "id": "7c44f0f9",
   "metadata": {},
   "outputs": [
    {
     "name": "stdout",
     "output_type": "stream",
     "text": [
      "['Manzana', 'Banana', 'Uvas']\n"
     ]
    }
   ],
   "source": [
    "frutas= []\n",
    "frutas.append(\"Manzana\")\n",
    "frutas.append(\"Banana\")\n",
    "frutas.append(\"Uvas\")\n",
    "print(frutas)"
   ]
  },
  {
   "cell_type": "markdown",
   "id": "d56b60be",
   "metadata": {},
   "source": [
    "4) Reemplazar el segundo y último valor de la lista “animales” con las palabras “loro” y “oso”,\n",
    "respectivamente. Imprimir la lista resultante por pantalla."
   ]
  },
  {
   "cell_type": "code",
   "execution_count": 9,
   "id": "2b146664",
   "metadata": {},
   "outputs": [
    {
     "name": "stdout",
     "output_type": "stream",
     "text": [
      "['perro', 'loro', 'toro', 'perico', 'oso']\n"
     ]
    }
   ],
   "source": [
    "lista_animales[1]=\"loro\"\n",
    "lista_animales[4]=\"oso\"\n",
    "print(lista_animales)"
   ]
  },
  {
   "cell_type": "markdown",
   "id": "85a1145f",
   "metadata": {},
   "source": [
    "5) Analizar el siguiente programa y explicar con tus palabras qué es lo que realiza\n",
    "numeros = [8, 15, 3, 22, 7]\n",
    "numeros.remove(max(numeros))\n",
    "print(numeros)"
   ]
  },
  {
   "cell_type": "markdown",
   "id": "67b7c37b",
   "metadata": {},
   "source": [
    "En el programa anterior los primero que se hace es declarar la lista numeros con 5 elementos en su interiror. Luego a la lista se aplica el método remove para eliminar uno de los elementos de la lista, pero en este caso no si utilizan los índices para indicar que elemento eliminar de la lista, sino que se utiliza la función max() para eliminar el elemento mas grande de la lista, sin importar en que índice se encuentre. Para finalizar se imprime la lista resultante"
   ]
  },
  {
   "cell_type": "markdown",
   "id": "4276d09a",
   "metadata": {},
   "source": [
    "6) Crear una lista con números del 10 al 30 (incluído), haciendo saltos de 5 en 5 y mostrar por\n",
    "pantalla los dos primeros.\n"
   ]
  },
  {
   "cell_type": "code",
   "execution_count": 13,
   "id": "e053651f",
   "metadata": {},
   "outputs": [
    {
     "name": "stdout",
     "output_type": "stream",
     "text": [
      "[10, 15]\n"
     ]
    }
   ],
   "source": [
    "lista_numeros = list(range(10,31,5))\n",
    "print(lista_numeros[0:2])"
   ]
  },
  {
   "cell_type": "markdown",
   "id": "ded05508",
   "metadata": {},
   "source": [
    "7) Reemplazar los dos valores centrales (índices 1 y 2) de la lista “autos” por dos nuevos valores\n",
    "cualesquiera.\n"
   ]
  },
  {
   "cell_type": "code",
   "execution_count": 14,
   "id": "4d070ed1",
   "metadata": {},
   "outputs": [
    {
     "name": "stdout",
     "output_type": "stream",
     "text": [
      "['sedan', 'Kwid', 'virtus', 'gol']\n"
     ]
    }
   ],
   "source": [
    "autos = [\"sedan\", \"polo\", \"suran\", \"gol\"]\n",
    "autos[1]=\"Kwid\"\n",
    "autos[2]=\"virtus\"\n",
    "print(autos)"
   ]
  },
  {
   "cell_type": "markdown",
   "id": "5e4d4b7d",
   "metadata": {},
   "source": [
    "8) Crear una lista vacía llamada \"dobles\" y agregar el doble de 5, 10 y 15 usando append\n",
    "directamente. Imprimir la lista resultante por pantalla.\n"
   ]
  },
  {
   "cell_type": "code",
   "execution_count": 16,
   "id": "317091bb",
   "metadata": {},
   "outputs": [
    {
     "name": "stdout",
     "output_type": "stream",
     "text": [
      "[10, 20, 30]\n"
     ]
    }
   ],
   "source": [
    "dobles=[]\n",
    "dobles.append(5*2)\n",
    "dobles.append(10*2)\n",
    "dobles.append(15*2)\n",
    "print(dobles)\n"
   ]
  },
  {
   "cell_type": "markdown",
   "id": "16883249",
   "metadata": {},
   "source": [
    "9) Dada la lista “compras”, cuyos elementos representan los productos comprados por\n",
    "diferentes clientes:\n",
    "\n",
    "compras = [[\"pan\", \"leche\"], [\"arroz\", \"fideos\", \"salsa\"],[\"agua\"]]\n",
    "\n",
    "a) Agregar \"jugo\" a la lista del tercer cliente usando append.\n",
    "\n",
    "b) Reemplazar \"fideos\" por \"tallarines\" en la lista del segundo cliente.\n",
    "\n",
    "c) Eliminar \"pan\" de la lista del primer cliente.\n",
    "\n",
    "d) Imprimir la lista resultante por pantalla\n"
   ]
  },
  {
   "cell_type": "code",
   "execution_count": null,
   "id": "8a1b8113",
   "metadata": {},
   "outputs": [
    {
     "name": "stdout",
     "output_type": "stream",
     "text": [
      "[['leche'], ['arroz', 'tallarines', 'salsa'], ['agua', 'jugo']]\n"
     ]
    }
   ],
   "source": [
    "compras = [[\"pan\", \"leche\"], [\"arroz\", \"fideos\", \"salsa\"],[\"agua\"]]\n",
    "compras[2].append(\"jugo\")\n",
    "compras[1][1]= \"tallarines\"\n",
    "compras[0].remove(\"pan\")\n",
    "print(compras)"
   ]
  },
  {
   "cell_type": "markdown",
   "id": "bd7ec0ee",
   "metadata": {},
   "source": [
    "10) Elaborar una lista anidada llamada “lista_anidada” que contenga los siguientes elementos:\n",
    "\n",
    "● Posición lista_anidada[0]: 15\n",
    "\n",
    "● Posición lista_anidada[1]: True\n",
    "\n",
    "● Posición lista_anidada[2][0]: 25.5\n",
    "\n",
    "● Posición lista_anidada[2][1]: 57.9\n",
    "\n",
    "● Posición lista_anidada[2][2]: 30.6\n",
    "\n",
    "● Posición lista_anidada[3]: False\n",
    "\n",
    "Imprimir la lista resultante por pantalla.\n"
   ]
  },
  {
   "cell_type": "code",
   "execution_count": 38,
   "id": "e0d7704b",
   "metadata": {},
   "outputs": [
    {
     "name": "stdout",
     "output_type": "stream",
     "text": [
      "[15, 'True', [25.5, 57.9, 30.6], ['False']]\n"
     ]
    }
   ],
   "source": [
    "lista_anidada=[]\n",
    "lista_2=[]\n",
    "lista_3=[]\n",
    "lista_anidada.append(15)\n",
    "lista_anidada.append(\"True\")\n",
    "lista_anidada.append(lista_2)\n",
    "lista_anidada[2].append(25.5)\n",
    "lista_anidada[2].append(57.9)\n",
    "lista_anidada[2].append(30.6)\n",
    "lista_anidada.append(lista_3)\n",
    "lista_anidada[3].append(\"False\")\n",
    "\n",
    "print(lista_anidada)\n"
   ]
  }
 ],
 "metadata": {
  "kernelspec": {
   "display_name": "Python 3",
   "language": "python",
   "name": "python3"
  },
  "language_info": {
   "codemirror_mode": {
    "name": "ipython",
    "version": 3
   },
   "file_extension": ".py",
   "mimetype": "text/x-python",
   "name": "python",
   "nbconvert_exporter": "python",
   "pygments_lexer": "ipython3",
   "version": "3.13.3"
  }
 },
 "nbformat": 4,
 "nbformat_minor": 5
}
