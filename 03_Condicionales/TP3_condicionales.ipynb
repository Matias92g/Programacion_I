{
 "cells": [
  {
   "cell_type": "markdown",
   "id": "9169f70c",
   "metadata": {},
   "source": [
    "1. Escribir un programa que solicite la edad del usuario. Si el usuario es mayor de 18 años,\n",
    "deberá mostrar un mensaje en pantalla que diga “Es mayor de edad”."
   ]
  },
  {
   "cell_type": "code",
   "execution_count": null,
   "id": "a0ca749f",
   "metadata": {},
   "outputs": [
    {
     "name": "stdout",
     "output_type": "stream",
     "text": [
      "Es mayor de edad!\n"
     ]
    }
   ],
   "source": [
    "edad = int(input(\"ingrese su edad: \"))\n",
    "if edad > 18 :\n",
    "    print(f\"Es mayor de edad!\")"
   ]
  },
  {
   "cell_type": "markdown",
   "id": "8d57cfa1",
   "metadata": {},
   "source": [
    "2. Escribir un programa que solicite su nota al usuario. Si la nota es mayor o igual a 6, deberá\n",
    "mostrar por pantalla un mensaje que diga “Aprobado”; en caso contrario deberá mostrar el\n",
    "mensaje “Desaprobado”."
   ]
  },
  {
   "cell_type": "code",
   "execution_count": 3,
   "id": "e9118030",
   "metadata": {},
   "outputs": [
    {
     "name": "stdout",
     "output_type": "stream",
     "text": [
      "Desaprobado\n"
     ]
    }
   ],
   "source": [
    "nota = int(input(\"ingrese su nota: \"))\n",
    "\n",
    "if nota >= 6 :\n",
    "    print (\"Aprobado\")\n",
    "else: print (\"Desaprobado\")"
   ]
  },
  {
   "cell_type": "markdown",
   "id": "243a6282",
   "metadata": {},
   "source": [
    "3) Escribir un programa que permita ingresar solo números pares. Si el usuario ingresa un\n",
    "número par, imprimir por en pantalla el mensaje \"Ha ingresado un número par\"; en caso\n",
    "contrario, imprimir por pantalla \"Por favor, ingrese un número par\". Nota: investigar el uso del\n",
    "operador de módulo (%) en Python para evaluar si un número es par o impar."
   ]
  },
  {
   "cell_type": "code",
   "execution_count": 8,
   "id": "73e9b5ff",
   "metadata": {},
   "outputs": [
    {
     "name": "stdout",
     "output_type": "stream",
     "text": [
      "Ha ingresado un numero par\n"
     ]
    }
   ],
   "source": [
    "num = int(input(\"Ingrese un número\"))\n",
    "res = num % 2\n",
    "if res == 0 :\n",
    "    print (\"Ha ingresado un numero par\")\n",
    "else: print (\"Por favor, ingrese un numero par\")"
   ]
  },
  {
   "cell_type": "markdown",
   "id": "ab2813e1",
   "metadata": {},
   "source": [
    "4) Escribir un programa que solicite al usuario su edad e imprima por pantalla a cuál de las siguientes categorías pertenece:\n",
    "● Niño/a: menor de 12 años.\n",
    "● Adolescente: mayor o igual que 12 años y menor que 18 años.\n",
    "● Adulto/a joven: mayor o igual que 18 años y menor que 30 años.\n",
    "● Adulto/a: mayor o igual que 30 años."
   ]
  },
  {
   "cell_type": "code",
   "execution_count": 13,
   "id": "84cf5992",
   "metadata": {},
   "outputs": [
    {
     "name": "stdout",
     "output_type": "stream",
     "text": [
      "Pertenece a la categoria Adulto/a Joven\n"
     ]
    }
   ],
   "source": [
    "edad = int(input(\"Ingrese su edad: \"))\n",
    "\n",
    "if edad < 12 :\n",
    "    print (\"pertenece a la categoria Niño/a\")\n",
    "elif edad >= 12 and edad < 18:\n",
    "        print (\"pertenece a la categoria Adolescente\")\n",
    "elif edad > 18 and edad <30 :\n",
    "      print (\"Pertenece a la categoria Adulto/a Joven\")\n",
    "elif edad >= 30 :\n",
    "      print (\"Pertenece a la categoria Adulto/a Mayor\")"
   ]
  },
  {
   "cell_type": "markdown",
   "id": "f80a1102",
   "metadata": {},
   "source": [
    "5) Escribir un programa que permita introducir contraseñas de entre 8 y 14 caracteres\n",
    "(incluyendo 8 y 14). Si el usuario ingresa una contraseña de longitud adecuada, imprimir por en\n",
    "pantalla el mensaje \"Ha ingresado una contraseña correcta\"; en caso contrario, imprimir por\n",
    "pantalla \"Por favor, ingrese una contraseña de entre 8 y 14 caracteres\". Nota: investigue el uso\n",
    "de la función len() en Python para evaluar la cantidad de elementos que tiene un iterable tal\n",
    "como una lista o un string."
   ]
  },
  {
   "cell_type": "code",
   "execution_count": 19,
   "id": "ef2154a9",
   "metadata": {},
   "outputs": [
    {
     "name": "stdout",
     "output_type": "stream",
     "text": [
      "Por favor, ingrese una contraseña de entre 8 y 14 caracteres\n"
     ]
    }
   ],
   "source": [
    "password = input(\"Ingrese una contraseña: \")\n",
    "\n",
    "if len(password) >= 8 and len(password)<=14 :\n",
    "    print(\"Ha ingresado una contraseña correcta\")\n",
    "elif len(password)<8 or len(password) >14:\n",
    "    print (\"Por favor, ingrese una contraseña de entre 8 y 14 caracteres\")"
   ]
  },
  {
   "cell_type": "markdown",
   "id": "eca8f5a7",
   "metadata": {},
   "source": [
    "6) El paquete statistics de python contiene funciones que permiten tomar una lista de números\n",
    "y calcular la moda, la mediana y la media de dichos números. Un ejemplo de su uso es el\n",
    "siguiente:\n",
    "from statistics import mode, median, mean\n",
    "mi_lista = [1,2,5,5,3]\n",
    "mean(mi_lista)\n",
    "En la documentación oficial se puede encontrar más información sobre este paquete:\n",
    "https://docs.python.org/es/3.8/library/statistics.html.\n",
    "La moda (mode), la mediana (median) y la media (mean) son parámetros estadísticos que se\n",
    "pueden utilizar para predecir la forma de una distribución normal a partir del siguiente criterio:\n",
    "● Sesgo positivo o a la derecha: cuando la media es mayor que la mediana y, a su vez, la\n",
    "mediana es mayor que la moda.\n",
    "● Sesgo negativo o a la izquierda: cuando la media es menor que la mediana y, a su vez,\n",
    "la mediana es menor que la moda.\n",
    "● Sin sesgo: cuando la media, la mediana y la moda son iguales.\n",
    "Teniendo en cuenta lo antes mencionado, escribir un programa que tome la lista\n",
    "numeros_aleatorios, calcule su moda, su mediana y su media y las compare para determinar si\n",
    "hay sesgo positivo, negativo o no hay sesgo. Imprimir el resultado por pantalla.\n",
    "Definir la lista numeros_aleatorios de la siguiente forma:\n",
    "import random\n",
    "numeros_aleatorios = [random.randint(1, 100) for i in range(50)]\n",
    "Nota: el bloque de código anterior crea una lista con 50 números entre 1 y 100 elegidos de\n",
    "forma aleatoria.\n"
   ]
  },
  {
   "cell_type": "code",
   "execution_count": 30,
   "id": "85da6f22",
   "metadata": {},
   "outputs": [
    {
     "name": "stdout",
     "output_type": "stream",
     "text": [
      "Sesgo Positivo o a la derecha\n"
     ]
    }
   ],
   "source": [
    "from statistics import mean, median, mode\n",
    "import random\n",
    "\n",
    "numeros_aleatorios = [random.randint(1, 100) for i in range(50)]\n",
    "\n",
    "media = mean(numeros_aleatorios)\n",
    "moda = mode(numeros_aleatorios)\n",
    "mediana = median(numeros_aleatorios)\n",
    "\n",
    "if media > mediana and mediana > moda :\n",
    "    print(\"Sesgo Positivo o a la derecha\")\n",
    "elif media < mediana and mediana < moda :\n",
    "    print(\"Sesgo Negativo o a la izquierda\")\n",
    "elif (media == mediana) and (media==moda) and (moda == mediana):\n",
    "    print(\"Sin sesgo\")"
   ]
  },
  {
   "cell_type": "markdown",
   "id": "8b6ac7dd",
   "metadata": {},
   "source": [
    "8) Escribir un programa que solicite al usuario que ingrese su nombre y el número 1, 2 o 3\n",
    "dependiendo de la opción que desee:\n",
    "1. Si quiere su nombre en mayúsculas. Por ejemplo: PEDRO.\n",
    "2. Si quiere su nombre en minúsculas. Por ejemplo: pedro.\n",
    "3. Si quiere su nombre con la primera letra mayúscula. Por ejemplo: Pedro.\n",
    "El programa debe transformar el nombre ingresado de acuerdo a la opción seleccionada por el\n",
    "usuario e imprimir el resultado por pantalla. Nota: investigue uso de las funciones upper(),\n",
    "lower() y title() de Python para convertir entre mayúsculas y minúsculas.\n"
   ]
  },
  {
   "cell_type": "code",
   "execution_count": 28,
   "id": "296b353e",
   "metadata": {},
   "outputs": [
    {
     "name": "stdout",
     "output_type": "stream",
     "text": [
      "MATIAS\n"
     ]
    }
   ],
   "source": [
    "name = input(\"Ingrese su nombre: \")\n",
    "modo_escritura = int(input(\"Ingrese el nro que corresponda segun cómo quiere ver escrito su nombre: 1. Si quiere su nombre en mayúsculas. Por ejemplo: PEDRO. 2. Si quiere su nombre en minúsculas. Por ejemplo: pedro. 3. Si quiere su nombre con la primera letra mayúscula. Por ejemplo: Pedro.\"))\n",
    "\n",
    "if modo_escritura == 1 :\n",
    "    print(name.upper())\n",
    "elif modo_escritura == 2 :\n",
    "    print(name.lower())\n",
    "elif modo_escritura == 3 :\n",
    "    print(name.title())"
   ]
  },
  {
   "cell_type": "markdown",
   "id": "2cde673b",
   "metadata": {},
   "source": [
    "9) Escribir un programa que pida al usuario la magnitud de un terremoto, clasifique la\n",
    "magnitud en una de las siguientes categorías según la escala de Richter e imprima el resultado\n",
    "por pantalla:\n",
    "● Menor que 3: \"Muy leve\" (imperceptible).\n",
    "● Mayor o igual que 3 y menor que 4: \"Leve\" (ligeramente perceptible).\n",
    "● Mayor o igual que 4 y menor que 5: \"Moderado\" (sentido por personas, pero\n",
    "generalmente no causa daños).\n",
    "● Mayor o igual que 5 y menor que 6: \"Fuerte\" (puede causar daños en estructuras\n",
    "débiles).\n",
    "● Mayor o igual que 6 y menor que 7: \"Muy Fuerte\" (puede causar daños significativos).\n",
    "● Mayor o igual que 7: \"Extremo\" (puede causar graves daños a gran escala).\n"
   ]
  },
  {
   "cell_type": "code",
   "execution_count": 31,
   "id": "3f0690b2",
   "metadata": {},
   "outputs": [
    {
     "name": "stdout",
     "output_type": "stream",
     "text": [
      "Moderado (sentido por personas, pero generalmente no causa daños)\n"
     ]
    }
   ],
   "source": [
    "magnitud = float(input(\"Ingrese la magnitud de un terremoto: \"))\n",
    "\n",
    "if magnitud < 3 :\n",
    "    print(\"Muy Leve (imperceptible)\")\n",
    "elif magnitud >=3 and magnitud < 4 : \n",
    "    print(\"Leve (ligeramente perceptible)\")\n",
    "elif magnitud >=4 and magnitud < 5 : \n",
    "    print(\"Moderado (sentido por personas, pero generalmente no causa daños)\")\n",
    "elif magnitud >=5 and magnitud < 6 : \n",
    "    print(\"Fuerte (puede causar daños en estructuras débiles)\")\n",
    "elif magnitud >=6 and magnitud < 7 : \n",
    "    print(\"Muy Fuerte (puede causar daños significativos)\")\n",
    "elif magnitud > 7 :\n",
    "    print(\"Extremo (puede causar graves daños a gran escala)\")"
   ]
  },
  {
   "cell_type": "markdown",
   "id": "d2f9d4cb",
   "metadata": {},
   "source": [
    "10) Utilizando la información aportada en la siguiente tabla sobre las estaciones del año\n",
    "Periodo del año\n",
    "Estación en el\n",
    "hemisferio norte\n",
    "Estación en el\n",
    "hemisferio sur\n",
    "Desde el 21 de diciembre hasta el 20 de\n",
    "marzo (incluidos)\n",
    "Invierno Verano\n",
    "Desde el 21 de marzo hasta el 20 de junio\n",
    "(incluidos)\n",
    "Primavera Otoño\n",
    "Desde el 21 de junio hasta el 20 de\n",
    "septiembre (incluidos)\n",
    "Verano Invierno\n",
    "Desde el 21 de septiembre hasta el 20 de\n",
    "diciembre (incluidos)\n",
    "Otoño Primavera\n",
    "Escribir un programa que pregunte al usuario en cuál hemisferio se encuentra (N/S), qué mes\n",
    "del año es y qué día es. El programa deberá utilizar esa información para imprimir por pantalla\n",
    "si el usuario se encuentra en otoño, invierno, primavera o verano.\n"
   ]
  },
  {
   "cell_type": "code",
   "execution_count": null,
   "id": "633c0f74",
   "metadata": {},
   "outputs": [
    {
     "name": "stdout",
     "output_type": "stream",
     "text": [
      "Usted se encuentra en Otoño\n"
     ]
    }
   ],
   "source": [
    "hemisferio = input(\"Ingrese S o N, según el hemisferio en el que se encuentre\")\n",
    "mes = int(input(\"Ingrese el número del mes en curso\"))\n",
    "dia = int(input(\"Ingrese el número del día de hoy\"))\n",
    "\n",
    "if (hemisferio == \"S\" or hemisferio == \"s\") and ((mes == 12 and (dia >20 and dia <32)) or (mes <= 3 or (mes == 3 and (dia<=20)))) :\n",
    "    print(\"Usted se encuentra en Verano\")\n",
    "elif (hemisferio == \"N\" or hemisferio == \"n\") and ((mes == 12 and (dia >20 and dia <32)) or (mes <= 3 or (mes == 3 and (dia<=20)))) :\n",
    "    print(\"Usted se encuentra en Invierno\")\n",
    "elif (hemisferio == \"S\" or hemisferio == \"s\") and ((mes == 3 and (dia >20 and dia <32)) or (mes > 3 and mes <6) or (mes == 6 and (mes == 6 and (dia<=20)))):\n",
    "        print(\"Usted se encuentra en Otoño\")\n",
    "elif (hemisferio == \"N\" or hemisferio == \"n\") and ((mes == 3 and (dia >20 and dia <32)) or (mes > 3 and mes <6) or (mes == 6 and (mes == 6 and (dia<=20)))):\n",
    "        print(\"Usted se encuentra en Primavera\")\n",
    "elif (hemisferio == \"S\" or hemisferio == \"s\") and ((mes == 6 and (dia >20 and dia <31)) or (mes > 6 and mes <9) or (mes == 9 and (mes == 6 and (dia<=20)))):\n",
    "        print(\"Usted se encuentra en invierno\")\n",
    "elif (hemisferio == \"N\" or hemisferio == \"n\") and ((mes == 6 and (dia >20 and dia <31)) or (mes > 6 and mes <9) or (mes == 9 and (mes == 6 and (dia<=20)))):\n",
    "        print(\"Usted se encuentra en Verano\")\n",
    "elif (hemisferio == \"S\" or hemisferio == \"s\") and ((mes == 9 and (dia >20 and dia <31)) or (mes > 9 and mes <12) or (mes == 12 and (mes == 6 and (dia<=20)))):\n",
    "        print(\"Usted se encuentra en invierno\")\n",
    "elif (hemisferio == \"N\" or hemisferio == \"n\") and ((mes == 9 and (dia >20 and dia <31)) or (mes > 9 and mes <12) or (mes == 12 and (mes == 6 and (dia<=20)))):\n",
    "        print(\"Usted se encuentra en Verano\")"
   ]
  }
 ],
 "metadata": {
  "kernelspec": {
   "display_name": "Python 3",
   "language": "python",
   "name": "python3"
  },
  "language_info": {
   "codemirror_mode": {
    "name": "ipython",
    "version": 3
   },
   "file_extension": ".py",
   "mimetype": "text/x-python",
   "name": "python",
   "nbconvert_exporter": "python",
   "pygments_lexer": "ipython3",
   "version": "3.13.3"
  }
 },
 "nbformat": 4,
 "nbformat_minor": 5
}
